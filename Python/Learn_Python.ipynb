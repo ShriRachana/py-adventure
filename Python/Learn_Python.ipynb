{
  "nbformat": 4,
  "nbformat_minor": 0,
  "metadata": {
    "colab": {
      "provenance": [],
      "authorship_tag": "ABX9TyM4OzkknOzjFlc0KGHWCFuC",
      "include_colab_link": true
    },
    "kernelspec": {
      "name": "python3",
      "display_name": "Python 3"
    },
    "language_info": {
      "name": "python"
    }
  },
  "cells": [
    {
      "cell_type": "markdown",
      "metadata": {
        "id": "view-in-github",
        "colab_type": "text"
      },
      "source": [
        "<a href=\"https://colab.research.google.com/github/ShriRachana/py-adventure/blob/main/py-adventure%20/LearnPython/Learn_Python.ipynb\" target=\"_parent\"><img src=\"https://colab.research.google.com/assets/colab-badge.svg\" alt=\"Open In Colab\"/></a>"
      ]
    },
    {
      "cell_type": "code",
      "execution_count": 4,
      "metadata": {
        "id": "HBD8wrEFide4"
      },
      "outputs": [],
      "source": [
        "# Python3 is used to find the Python version on your local/machine."
      ]
    },
    {
      "cell_type": "code",
      "source": [
        "#Simple Print statement :\n",
        "print(\"Hello Interpreter\")"
      ],
      "metadata": {
        "colab": {
          "base_uri": "https://localhost:8080/"
        },
        "id": "KV29pH_Pjcs9",
        "outputId": "d347203e-cfa8-4b84-b4a9-bb21ecb14300"
      },
      "execution_count": 5,
      "outputs": [
        {
          "output_type": "stream",
          "name": "stdout",
          "text": [
            "Hello Interpreter\n"
          ]
        }
      ]
    },
    {
      "cell_type": "code",
      "source": [],
      "metadata": {
        "id": "r9FhBtcMlKnf"
      },
      "execution_count": null,
      "outputs": []
    }
  ]
}